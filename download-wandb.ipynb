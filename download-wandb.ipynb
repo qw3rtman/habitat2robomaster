{
 "cells": [
  {
   "cell_type": "code",
   "execution_count": 75,
   "metadata": {},
   "outputs": [],
   "source": [
    "import wandb\n",
    "from pathlib import Path\n",
    "api = wandb.Api()"
   ]
  },
  {
   "cell_type": "code",
   "execution_count": 86,
   "metadata": {},
   "outputs": [],
   "source": [
    "project = 'qw3rtman/habitat-dontcrash-depth-student'\n",
    "\n",
    "runs = api.runs(project)\n",
    "for run in runs:\n",
    "    root = Path('models') / project / run.name\n",
    "    root.mkdir(parents=True, exist_ok=True)\n",
    "    \n",
    "    if not (root / 'config.yaml').exists():\n",
    "        run.file('config.yaml').download(root=root)\n",
    "\n",
    "    model = [f for f in run.files() if 'model_' in f.name][-1]\n",
    "    if model not in list(root.glob('model_*.t7')):\n",
    "        model.download(root=root)"
   ]
  },
  {
   "cell_type": "code",
   "execution_count": null,
   "metadata": {},
   "outputs": [],
   "source": []
  }
 ],
 "metadata": {
  "kernelspec": {
   "display_name": "Python 3",
   "language": "python",
   "name": "python3"
  },
  "language_info": {
   "codemirror_mode": {
    "name": "ipython",
    "version": 3
   },
   "file_extension": ".py",
   "mimetype": "text/x-python",
   "name": "python",
   "nbconvert_exporter": "python",
   "pygments_lexer": "ipython3",
   "version": "3.7.4"
  }
 },
 "nbformat": 4,
 "nbformat_minor": 2
}
