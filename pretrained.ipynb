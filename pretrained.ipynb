{
 "cells": [
  {
   "cell_type": "code",
   "execution_count": 1,
   "metadata": {},
   "outputs": [],
   "source": [
    "from pathlib import Path\n",
    "import torch\n",
    "import torch.nn as nn\n",
    "from torchvision import transforms\n",
    "import numpy as np\n",
    "from PIL import Image\n",
    "import matplotlib.pyplot as plt\n",
    "from pyquaternion import Quaternion\n",
    "import cv2\n",
    "import pandas as pd\n",
    "\n",
    "import time\n",
    "from collections import deque, defaultdict\n",
    "\n",
    "import habitat\n",
    "from habitat.config import Config\n",
    "from habitat.config.default import get_config\n",
    "from habitat.core.env import Env\n",
    "from habitat.sims.habitat_simulator.actions import HabitatSimActions\n",
    "\n",
    "# from habitat_baselines.rl.ddppo.policy.resnet import ResNet, resnet50, se_resneXt50\n",
    "# from habitat_baselines.rl.ppo import PointNavBaselinePolicy\n",
    "from habitat_baselines.agents.ppo_agents import PPOAgent\n",
    "from gym.spaces import Box, Dict, Discrete\n",
    "\n",
    "root = Path('../frames')\n",
    "transform_ = transforms.ToPILImage()"
   ]
  },
  {
   "cell_type": "code",
   "execution_count": 2,
   "metadata": {},
   "outputs": [],
   "source": [
    "models = {\n",
    "#     'rgb':   '/Users/nimit/Documents/robomaster/habitat/models/v2/gibson-2plus-mp3d-train-val-test-se-resneXt50-rgb.pth',\n",
    "#     'depth': '/Users/nimit/Documents/robomaster/habitat/models/v2/gibson-2plus-resnet50.pth',\n",
    "#     'depth': '/Users/nimit/Documents/robomaster/habitat/models/v2/gibson-4plus-resnet50.pth',\n",
    "    'rgb':   '/Users/nimit/Documents/robomaster/habitat/models/v2/rgb.pth',\n",
    "    'depth': '/Users/nimit/Documents/robomaster/habitat/models/v2/depth.pth'\n",
    "}\n",
    "\n",
    "configs = {\n",
    "    'rgb':   '/Users/nimit/Documents/robomaster/habitat/habitat2robomaster/rgb_test.yaml',\n",
    "    'depth': '/Users/nimit/Documents/robomaster/habitat/habitat2robomaster/configs/pointgoal-depth-train.yaml',\n",
    "#     'depth': '/Users/nimit/Documents/robomaster/habitat/habitat-api/habitat_baselines/config/pointnav/ddppo_pointnav.yaml'\n",
    "}"
   ]
  },
  {
   "cell_type": "code",
   "execution_count": 3,
   "metadata": {
    "scrolled": true
   },
   "outputs": [
    {
     "name": "stderr",
     "output_type": "stream",
     "text": [
      "2020-04-16 19:25:21,638 Initializing dataset PointNav-v1\n",
      "2020-04-16 19:25:21,854 initializing sim Sim-v0\n",
      "I0416 19:25:23.920087 98255 simulator.py:142] Loaded navmesh /Users/nimit/Documents/robomaster/habitat/habitat-api/data/scene_datasets/habitat-test-scenes/skokloster-castle.navmesh\n",
      "2020-04-16 19:25:23,924 Initializing task Nav-v0\n"
     ]
    }
   ],
   "source": [
    "c = Config()\n",
    "\n",
    "c.RESOLUTION       = 256\n",
    "c.HIDDEN_SIZE      = 512\n",
    "c.RANDOM_SEED      = 7\n",
    "\n",
    "c.INPUT_TYPE       = 'depth'\n",
    "c.MODEL_PATH       = models[c.INPUT_TYPE]\n",
    "c.GOAL_SENSOR_UUID = 'pointgoal_with_gps_compass'\n",
    "\n",
    "c.freeze()\n",
    "\n",
    "env = Env(config=get_config(configs[c.INPUT_TYPE]))\n",
    "agent = PPOAgent(c)"
   ]
  },
  {
   "cell_type": "code",
   "execution_count": 4,
   "metadata": {
    "scrolled": true
   },
   "outputs": [
    {
     "name": "stdout",
     "output_type": "stream",
     "text": [
      "{'distance_to_goal': 9.49310302734375, 'success': 0.0, 'spl': 0.0, 'collisions': {'count': 0, 'is_collision': False}}\n"
     ]
    }
   ],
   "source": [
    "agent.reset()\n",
    "observations = env.reset()\n",
    "\n",
    "i = 1\n",
    "while not env.episode_over:\n",
    "    action = agent.act(observations)\n",
    "    if i == 5:\n",
    "        break\n",
    "\n",
    "    cv2.imshow('rgb', observations['rgb'])\n",
    "    cv2.imshow('rgb', observations['depth'])\n",
    "    cv2.waitKey(1)\n",
    "\n",
    "    observations = env.step(action)\n",
    "\n",
    "    i += 1\n",
    "\n",
    "metrics = env.get_metrics()\n",
    "print(metrics)\n",
    "\n",
    "cv2.destroyWindow('rgb')"
   ]
  },
  {
   "cell_type": "markdown",
   "metadata": {},
   "source": [
    "## DDPPO"
   ]
  },
  {
   "cell_type": "code",
   "execution_count": 43,
   "metadata": {},
   "outputs": [
    {
     "name": "stdout",
     "output_type": "stream",
     "text": [
      "tensor(1.3863, grad_fn=<NllLossBackward>)\n",
      "tensor(1.3680, grad_fn=<NllLossBackward>)\n",
      "tensor(1.2848, grad_fn=<NllLossBackward>)\n",
      "tensor(1.0461, grad_fn=<NllLossBackward>)\n",
      "tensor(0.6252, grad_fn=<NllLossBackward>)\n",
      "tensor(0.2433, grad_fn=<NllLossBackward>)\n",
      "tensor(0.0739, grad_fn=<NllLossBackward>)\n",
      "tensor(0.0240, grad_fn=<NllLossBackward>)\n",
      "tensor(0.0091, grad_fn=<NllLossBackward>)\n",
      "tensor(0.0040, grad_fn=<NllLossBackward>)\n"
     ]
    }
   ],
   "source": [
    "from pathlib import Path\n",
    "import numpy as np\n",
    "import torch\n",
    "\n",
    "from gym.spaces import Box, Dict, Discrete\n",
    "\n",
    "from habitat.config.default import get_config\n",
    "from habitat import get_config as get_task_config\n",
    "\n",
    "from habitat_baselines.rl.ddppo.policy.resnet_policy import PointNavResNetPolicy\n",
    "from habitat_baselines.common.utils import batch_obs\n",
    "\n",
    "c = Config()\n",
    "\n",
    "c.RESOLUTION       = 256\n",
    "c.HIDDEN_SIZE      = 512\n",
    "c.RANDOM_SEED      = 7\n",
    "\n",
    "c.INPUT_TYPE       = 'depth'\n",
    "c.MODEL_PATH       = models[c.INPUT_TYPE]\n",
    "c.GOAL_SENSOR_UUID = 'pointgoal_with_gps_compass'\n",
    "\n",
    "c.freeze()\n",
    "\n",
    "spaces = {\n",
    "    'pointgoal_with_gps_compass': Box( \n",
    "        low=np.finfo(np.float32).min,\n",
    "        high=np.finfo(np.float32).maxm\n",
    "        shape=(2,),\n",
    "        dtype=np.float32,\n",
    "    ),\n",
    "    'depth': Box(low=0, high=1, shape=(256, 256, 1), dtype=np.float32),\n",
    "    'rgb': Box(low=0, high=255, shape=(256, 256, 3), dtype=np.uint8)\n",
    "}\n",
    "\n",
    "observation_spaces = Dict(spaces)\n",
    "action_spaces = Discrete(4)\n",
    "\n",
    "actor_critic = PointNavResNetPolicy(\n",
    "    observation_space=observation_spaces,\n",
    "    action_space=action_spaces,\n",
    "    hidden_size=c.HIDDEN_SIZE,\n",
    "    rnn_type='LSTM',\n",
    "    num_recurrent_layers=2,\n",
    "    backbone='resnet50',\n",
    "    goal_sensor_uuid=c.GOAL_SENSOR_UUID,\n",
    "    normalize_visual_inputs=False\n",
    ")\n",
    "\n",
    "batch = {\n",
    "     # move to GPU\n",
    "#     'depth': torch.stack([torch.from_numpy(np.float64(observations['depth']))], dim=0).to(dtype=torch.float),\n",
    "    'rgb': torch.stack([torch.from_numpy(np.float64(observations['rgb']))], dim=0).to(dtype=torch.float),\n",
    "    'pointgoal_with_gps_compass': torch.stack([torch.from_numpy(np.float64(observations['pointgoal_with_gps_compass']))], dim=0).to(dtype=torch.float)\n",
    "}\n",
    "test_recurrent_hidden_states = torch.zeros(actor_critic.net.num_recurrent_layers, 1, c.HIDDEN_SIZE) # move to GPU\n",
    "not_done_masks = torch.zeros(1, 1) # move to GPU\n",
    "prev_actions = torch.zeros(1, 1, dtype=torch.long) # move to GPU\n",
    "\n",
    "gt_action = torch.LongTensor([3])\n",
    "\n",
    "optim = torch.optim.Adam(actor_critic.parameters())\n",
    "criterion = torch.nn.CrossEntropyLoss()\n",
    "\n",
    "for _ in range(10):\n",
    "    optim.zero_grad()\n",
    "\n",
    "    # NOTE: from habitat_baselines/agents/ppo_agents.py#137\n",
    "    # must replace:\n",
    "    # * self.test_recurrent_hidden_states\n",
    "    # * self.prev_actions\n",
    "    # * self.not_done_masks\n",
    "    _, actions, action_log_probs, test_recurrent_hidden_states = actor_critic.act(\n",
    "        batch,\n",
    "        test_recurrent_hidden_states.detach(),\n",
    "        prev_actions,\n",
    "        not_done_masks,\n",
    "        deterministic=False)\n",
    "    #  Make masks not done till reset (end of episode) will be called\n",
    "    not_done_masks = torch.ones(1, 1) # move to GPU\n",
    "    prev_actions.copy_(actions)\n",
    "\n",
    "    loss = criterion(actor_critic.prev_distribution.logits, gt_action)\n",
    "    print(loss)\n",
    "\n",
    "    loss.backward()\n",
    "    optim.step()"
   ]
  },
  {
   "cell_type": "code",
   "execution_count": null,
   "metadata": {},
   "outputs": [],
   "source": []
  }
 ],
 "metadata": {
  "kernelspec": {
   "display_name": "Python 3",
   "language": "python",
   "name": "python3"
  },
  "language_info": {
   "codemirror_mode": {
    "name": "ipython",
    "version": 3
   },
   "file_extension": ".py",
   "mimetype": "text/x-python",
   "name": "python",
   "nbconvert_exporter": "python",
   "pygments_lexer": "ipython3",
   "version": "3.7.4"
  }
 },
 "nbformat": 4,
 "nbformat_minor": 2
}
