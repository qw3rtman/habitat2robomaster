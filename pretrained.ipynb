{
 "cells": [
  {
   "cell_type": "code",
   "execution_count": 1,
   "metadata": {},
   "outputs": [],
   "source": [
    "from pathlib import Path\n",
    "import torch\n",
    "import torch.nn as nn\n",
    "from torchvision import transforms\n",
    "import numpy as np\n",
    "from PIL import Image\n",
    "import matplotlib.pyplot as plt\n",
    "from pyquaternion import Quaternion\n",
    "import cv2\n",
    "import pandas as pd\n",
    "\n",
    "import time\n",
    "from collections import deque, defaultdict\n",
    "\n",
    "import habitat\n",
    "from habitat.config import Config\n",
    "from habitat.config.default import get_config\n",
    "from habitat.core.env import Env\n",
    "from habitat.sims.habitat_simulator.actions import HabitatSimActions\n",
    "\n",
    "# from habitat_baselines.rl.ddppo.policy.resnet import ResNet, resnet50, se_resneXt50\n",
    "# from habitat_baselines.rl.ppo import PointNavBaselinePolicy\n",
    "from habitat_baselines.agents.ppo_agents import PPOAgent\n",
    "from gym.spaces import Box, Dict, Discrete\n",
    "\n",
    "root = Path('../frames')\n",
    "transform_ = transforms.ToPILImage()"
   ]
  },
  {
   "cell_type": "code",
   "execution_count": 2,
   "metadata": {},
   "outputs": [],
   "source": [
    "models = {\n",
    "#     'rgb':   '/Users/nimit/Documents/robomaster/habitat/models/v2/gibson-2plus-mp3d-train-val-test-se-resneXt50-rgb.pth',\n",
    "#     'depth': '/Users/nimit/Documents/robomaster/habitat/models/v2/gibson-2plus-resnet50.pth',\n",
    "#     'depth': '/Users/nimit/Documents/robomaster/habitat/models/v2/gibson-4plus-resnet50.pth',\n",
    "    'rgb':   '/Users/nimit/Documents/robomaster/habitat/models/v2/ppo/rgb.pth',\n",
    "    'depth': '/Users/nimit/Documents/robomaster/habitat/models/v2/ppo/depth.pth'\n",
    "}\n",
    "\n",
    "configs = {\n",
    "#     'rgb':   '/Users/nimit/Documents/robomaster/habitat/habitat2robomaster/rgb_test.yaml',\n",
    "    'depth': '/Users/nimit/Documents/robomaster/habitat/habitat2robomaster/configs/pointgoal/ppo/train.yaml',\n",
    "#     'depth': '/Users/nimit/Documents/robomaster/habitat/habitat-api/habitat_baselines/config/pointnav/ddppo_pointnav.yaml'\n",
    "}"
   ]
  },
  {
   "cell_type": "code",
   "execution_count": 3,
   "metadata": {
    "scrolled": true
   },
   "outputs": [
    {
     "name": "stderr",
     "output_type": "stream",
     "text": [
      "2020-04-17 05:28:54,375 Initializing dataset PointNav-v1\n",
      "2020-04-17 05:28:54,546 initializing sim Sim-v0\n",
      "I0417 05:28:56.493104 10187 simulator.py:142] Loaded navmesh /Users/nimit/Documents/robomaster/habitat/habitat-api/data/scene_datasets/habitat-test-scenes/skokloster-castle.navmesh\n",
      "2020-04-17 05:28:56,497 Initializing task Nav-v0\n"
     ]
    }
   ],
   "source": [
    "c = Config()\n",
    "\n",
    "c.RESOLUTION       = 256\n",
    "c.HIDDEN_SIZE      = 512\n",
    "c.RANDOM_SEED      = 7\n",
    "\n",
    "c.INPUT_TYPE       = 'depth'\n",
    "c.MODEL_PATH       = models[c.INPUT_TYPE]\n",
    "c.GOAL_SENSOR_UUID = 'pointgoal_with_gps_compass'\n",
    "\n",
    "c.freeze()\n",
    "\n",
    "env = Env(config=get_config(configs[c.INPUT_TYPE]))\n",
    "agent = PPOAgent(c)"
   ]
  },
  {
   "cell_type": "code",
   "execution_count": 4,
   "metadata": {
    "scrolled": true
   },
   "outputs": [
    {
     "name": "stdout",
     "output_type": "stream",
     "text": [
      "{'distance_to_goal': 12.886344909667969, 'success': 0.0, 'spl': 0.0, 'collisions': {'count': 0, 'is_collision': False}}\n"
     ]
    }
   ],
   "source": [
    "agent.reset()\n",
    "observations = env.reset()\n",
    "\n",
    "k = 10\n",
    "rgb_k  = np.zeros((k, 256, 256, 3), dtype=np.uint8)\n",
    "meta_k = np.zeros((k, 2), dtype=np.float)\n",
    "\n",
    "i = 0\n",
    "while not env.episode_over:\n",
    "    action = agent.act(observations)\n",
    "    if i == k:\n",
    "        break\n",
    "\n",
    "    cv2.imshow('rgb', observations['rgb'])\n",
    "    cv2.imshow('rgb', observations['depth'])\n",
    "    cv2.waitKey(1)\n",
    "\n",
    "    observations = env.step(action)\n",
    "    rgb_k[i:,] = observations['rgb']\n",
    "    meta_k[i:,] = observations['pointgoal_with_gps_compass']\n",
    "\n",
    "    i += 1\n",
    "\n",
    "metrics = env.get_metrics()\n",
    "print(metrics)\n",
    "\n",
    "cv2.destroyWindow('rgb')"
   ]
  },
  {
   "cell_type": "markdown",
   "metadata": {},
   "source": [
    "## DDPPO"
   ]
  },
  {
   "cell_type": "code",
   "execution_count": 5,
   "metadata": {},
   "outputs": [
    {
     "name": "stdout",
     "output_type": "stream",
     "text": [
      "tensor(1.3862, grad_fn=<NllLossBackward>)\n",
      "tensor(1.3664, grad_fn=<NllLossBackward>)\n",
      "tensor(1.2773, grad_fn=<NllLossBackward>)\n",
      "tensor(1.0256, grad_fn=<NllLossBackward>)\n",
      "tensor(0.5969, grad_fn=<NllLossBackward>)\n",
      "tensor(0.2320, grad_fn=<NllLossBackward>)\n",
      "tensor(0.0751, grad_fn=<NllLossBackward>)\n",
      "tensor(0.0262, grad_fn=<NllLossBackward>)\n",
      "tensor(0.0103, grad_fn=<NllLossBackward>)\n",
      "tensor(0.0046, grad_fn=<NllLossBackward>)\n"
     ]
    }
   ],
   "source": [
    "from pathlib import Path\n",
    "import numpy as np\n",
    "import torch\n",
    "\n",
    "from gym.spaces import Box, Dict, Discrete\n",
    "\n",
    "from habitat_baselines.rl.ddppo.policy.resnet_policy import PointNavResNetPolicy\n",
    "from habitat_baselines.common.utils import batch_obs\n",
    "\n",
    "# MODEL\n",
    "observation_spaces, action_spaces = Dict({\n",
    "#     'depth': Box(low=0, high=1, shape=(256, 256, 1), dtype=np.float32),\n",
    "    'rgb': Box(low=0, high=255, shape=(256, 256, 3), dtype=np.uint8),\n",
    "    'pointgoal_with_gps_compass': Box( \n",
    "        low=np.finfo(np.float32).min,\n",
    "        high=np.finfo(np.float32).max,\n",
    "        shape=(2,),\n",
    "        dtype=np.float32,\n",
    "    ),\n",
    "}), Discrete(4)\n",
    "\n",
    "actor_critic = PointNavResNetPolicy(\n",
    "    observation_space=observation_spaces,\n",
    "    action_space=action_spaces,\n",
    "    hidden_size=512,\n",
    "    rnn_type='LSTM',\n",
    "    num_recurrent_layers=2,\n",
    "    backbone='resnet50',\n",
    "    goal_sensor_uuid='pointgoal_with_gps_compass',\n",
    "    normalize_visual_inputs='rgb' in observation_spaces.spaces.keys()\n",
    ")\n",
    "\n",
    "# DATA\n",
    "batch = { # move to GPU\n",
    "#     'depth': torch.stack([torch.from_numpy(np.float64(observations['depth']))], dim=0).to(dtype=torch.float),\n",
    "    'rgb': torch.stack([torch.from_numpy(np.float64(observations['rgb']))], dim=0).to(dtype=torch.float),\n",
    "    'pointgoal_with_gps_compass': torch.stack([torch.from_numpy(np.float64(observations['pointgoal_with_gps_compass']))], dim=0).to(dtype=torch.float)\n",
    "}\n",
    "\n",
    "\n",
    "# TRAIN\n",
    "test_recurrent_hidden_states = torch.zeros(actor_critic.net.num_recurrent_layers, 1, 512) # move to GPU\n",
    "not_done_masks = torch.zeros(1, 1) # move to GPU\n",
    "prev_actions = torch.zeros(1, 1, dtype=torch.long) # move to GPU\n",
    "\n",
    "gt_action = torch.LongTensor([3])\n",
    "\n",
    "optim = torch.optim.Adam(actor_critic.parameters())\n",
    "criterion = torch.nn.CrossEntropyLoss()\n",
    "\n",
    "for _ in range(10):\n",
    "    optim.zero_grad()\n",
    "\n",
    "    # NOTE: from habitat_baselines/agents/ppo_agents.py#137\n",
    "    # must replace:\n",
    "    # * self.test_recurrent_hidden_states\n",
    "    # * self.prev_actions\n",
    "    # * self.not_done_masks\n",
    "    _, actions, action_log_probs, test_recurrent_hidden_states = actor_critic.act(\n",
    "        batch,\n",
    "        test_recurrent_hidden_states.detach(),\n",
    "        prev_actions,\n",
    "        not_done_masks,\n",
    "        deterministic=False)\n",
    "    #  Make masks not done till reset (end of episode) will be called\n",
    "    not_done_masks = torch.ones(1, 1) # move to GPU\n",
    "    prev_actions.copy_(actions)\n",
    "\n",
    "    loss = criterion(actor_critic.prev_distribution.logits, gt_action)\n",
    "    print(loss)\n",
    "\n",
    "    loss.backward()\n",
    "    optim.step()"
   ]
  },
  {
   "cell_type": "code",
   "execution_count": null,
   "metadata": {
    "scrolled": true
   },
   "outputs": [],
   "source": []
  },
  {
   "cell_type": "code",
   "execution_count": 12,
   "metadata": {},
   "outputs": [
    {
     "name": "stdout",
     "output_type": "stream",
     "text": [
      "torch.Size([4, 2, 512])\n",
      "tensor(1.3862, grad_fn=<NllLossBackward>)\n",
      "torch.Size([4, 2, 512])\n",
      "tensor(1.3863, grad_fn=<NllLossBackward>)\n",
      "torch.Size([4, 2, 512])\n",
      "tensor(1.3879, grad_fn=<NllLossBackward>)\n",
      "torch.Size([4, 2, 512])\n",
      "tensor(1.3598, grad_fn=<NllLossBackward>)\n",
      "torch.Size([4, 2, 512])\n",
      "tensor(1.3315, grad_fn=<NllLossBackward>)\n"
     ]
    }
   ],
   "source": [
    "from model import ConditionalStateEncoderImitation\n",
    "net = ConditionalStateEncoderImitation()\n",
    "\n",
    "action = torch.LongTensor([1, 2, 3, 1, 2, 3, 1, 2, 3, 1])\n",
    "\n",
    "optim = torch.optim.Adam(net.parameters())\n",
    "criterion = torch.nn.CrossEntropyLoss()\n",
    "\n",
    "for i in range(0, 9, 2):\n",
    "    rgb  = torch.Tensor(rgb_k[i:i+2]) #torch.stack([torch.from_numpy(np.float64(observations['rgb']))], dim=0).to(dtype=torch.float)\n",
    "    meta = torch.Tensor(meta_k[i:i+2]) #torch.stack([torch.from_numpy(np.float64(observations['pointgoal_with_gps_compass']))], dim=0).to(dtype=torch.float)\n",
    "\n",
    "    print(net.test_recurrent_hidden_states.shape)\n",
    "    optim.zero_grad()\n",
    "    \n",
    "#     net.not_done_masks[0,0]=1.\n",
    "\n",
    "    # NOTE: from habitat_baselines/agents/ppo_agents.py#137\n",
    "    _action = net((rgb, meta))\n",
    "    loss = criterion(_action, action[i:i+2])\n",
    "    print(loss)\n",
    "\n",
    "    loss.backward()\n",
    "    optim.step()"
   ]
  },
  {
   "cell_type": "code",
   "execution_count": null,
   "metadata": {},
   "outputs": [],
   "source": []
  }
 ],
 "metadata": {
  "kernelspec": {
   "display_name": "Python 3",
   "language": "python",
   "name": "python3"
  },
  "language_info": {
   "codemirror_mode": {
    "name": "ipython",
    "version": 3
   },
   "file_extension": ".py",
   "mimetype": "text/x-python",
   "name": "python",
   "nbconvert_exporter": "python",
   "pygments_lexer": "ipython3",
   "version": "3.7.4"
  }
 },
 "nbformat": 4,
 "nbformat_minor": 2
}
