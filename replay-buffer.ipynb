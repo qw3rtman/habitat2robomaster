{
 "cells": [
  {
   "cell_type": "code",
   "execution_count": 1,
   "metadata": {
    "scrolled": true
   },
   "outputs": [
    {
     "name": "stdout",
     "output_type": "stream",
     "text": [
      "train: 1\n",
      "val: 57\n"
     ]
    }
   ],
   "source": [
    "from habitat_dataset import get_dataset, HabitatDataset\n",
    "\n",
    "from pathlib import Path\n",
    "import torch\n",
    "import numpy as np\n",
    "from PIL import Image\n",
    "import matplotlib.pyplot as plt\n",
    "from torchvision import transforms\n",
    "import pandas as pd\n",
    "import cv2\n",
    "\n",
    "import time\n",
    "\n",
    "transform  = transforms.ToTensor()\n",
    "transform_ = transforms.ToPILImage()\n",
    "train_dataset, test_dataset = get_dataset('data/test', batch_size=1)"
   ]
  },
  {
   "cell_type": "code",
   "execution_count": 2,
   "metadata": {
    "scrolled": true
   },
   "outputs": [
    {
     "name": "stdout",
     "output_type": "stream",
     "text": [
      "tick\n",
      "tick\n",
      "tick\n",
      "tick\n",
      "tick\n",
      "tick\n",
      "tick\n",
      "tick\n",
      "tick\n",
      "tick\n"
     ]
    }
   ],
   "source": [
    "for rgb, _, _, action, meta in train_dataset:\n",
    "    cv2.imshow('rgb', np.uint8(transform_(rgb[0])))\n",
    "    cv2.waitKey(1)\n",
    "    print('tick')"
   ]
  },
  {
   "cell_type": "code",
   "execution_count": 3,
   "metadata": {
    "scrolled": true
   },
   "outputs": [
    {
     "name": "stdout",
     "output_type": "stream",
     "text": [
      "0.0648031234741211\n"
     ]
    }
   ],
   "source": [
    "start = time.time()\n",
    "for i in range(1, 9):\n",
    "    train_dataset.add_episode(HabitatDataset(f'data/depth/train/{i:04}'))\n",
    "print(time.time()-start)"
   ]
  },
  {
   "cell_type": "code",
   "execution_count": 4,
   "metadata": {
    "scrolled": true
   },
   "outputs": [
    {
     "name": "stdout",
     "output_type": "stream",
     "text": [
      "tick\n",
      "tick\n",
      "tick\n",
      "tick\n",
      "tick\n",
      "tick\n",
      "tick\n",
      "tick\n",
      "tick\n",
      "tick\n"
     ]
    }
   ],
   "source": [
    "for rgb, _, _, action, meta in train_dataset:\n",
    "    cv2.imshow('rgb', np.uint8(transform_(rgb[0])))\n",
    "    cv2.waitKey(100)\n",
    "    print('tick')"
   ]
  },
  {
   "cell_type": "code",
   "execution_count": null,
   "metadata": {},
   "outputs": [],
   "source": []
  }
 ],
 "metadata": {
  "kernelspec": {
   "display_name": "Python 3",
   "language": "python",
   "name": "python3"
  },
  "language_info": {
   "codemirror_mode": {
    "name": "ipython",
    "version": 3
   },
   "file_extension": ".py",
   "mimetype": "text/x-python",
   "name": "python",
   "nbconvert_exporter": "python",
   "pygments_lexer": "ipython3",
   "version": "3.7.4"
  }
 },
 "nbformat": 4,
 "nbformat_minor": 2
}
