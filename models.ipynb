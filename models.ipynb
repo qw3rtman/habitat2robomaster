{
 "cells": [
  {
   "cell_type": "code",
   "execution_count": 10,
   "metadata": {},
   "outputs": [],
   "source": [
    "from habitat.sims.habitat_simulator.actions import HabitatSimActions\n",
    "\n",
    "from habitat_dataset import get_dataset, HabitatDataset\n",
    "\n",
    "from pathlib import Path\n",
    "import torch\n",
    "import numpy as np\n",
    "from PIL import Image\n",
    "import matplotlib.pyplot as plt\n",
    "from torchvision import transforms\n",
    "import pandas as pd\n",
    "import cv2\n",
    "\n",
    "ACTIONS = {v: k for k, v in HabitatSimActions._known_actions.items()}\n",
    "\n",
    "transform_ = transforms.ToPILImage()\n",
    "dataset = HabitatDataset('data/depth/train/0002')\n",
    "\n",
    "i = 20\n",
    "rgb, _, _, action, meta = dataset[i]"
   ]
  },
  {
   "cell_type": "code",
   "execution_count": 11,
   "metadata": {},
   "outputs": [],
   "source": [
    "import torch.nn as nn\n",
    "from resnet import ResnetBase\n",
    "\n",
    "def spatial_softmax_base():\n",
    "    return nn.Sequential(\n",
    "            nn.BatchNorm2d(512),\n",
    "            nn.ConvTranspose2d(512, 256, 3, 2, 1, 1),\n",
    "            nn.ReLU(True),\n",
    "            nn.BatchNorm2d(256),\n",
    "            nn.ConvTranspose2d(256, 128, 3, 2, 1, 1),\n",
    "            nn.ReLU(True),\n",
    "            nn.BatchNorm2d(128),\n",
    "            nn.ConvTranspose2d(128, 64, 3, 2, 1, 1),\n",
    "            nn.ReLU(True)\n",
    "    )"
   ]
  },
  {
   "cell_type": "markdown",
   "metadata": {},
   "source": [
    "# Direct Imitation `[v2.x]`\n",
    "Should at least work for not crashing/getting stuck... Might need to do DAgger or something to capture non-perfect situations"
   ]
  },
  {
   "cell_type": "code",
   "execution_count": 12,
   "metadata": {},
   "outputs": [],
   "source": [
    "class DirectImitation(ResnetBase): # v2.x\n",
    "    def __init__(self, resnet_model='resnet34', **resnet_kwargs):\n",
    "        resnet_kwargs['input_channel'] = resnet_kwargs.get('input_channel', 3)\n",
    "\n",
    "        super().__init__(resnet_model, **resnet_kwargs)\n",
    "\n",
    "        self.normalize = nn.BatchNorm2d(resnet_kwargs['input_channel'])\n",
    "        self.deconv = spatial_softmax_base()\n",
    "        self.extract = nn.Sequential(\n",
    "                nn.BatchNorm2d(64),\n",
    "                nn.Conv2d(64, 5, 1, 1, 0))#,\n",
    "                #common.SpatialSoftmax(temperature))\n",
    "      \n",
    "        self.fc1 = nn.Linear(64, 1)\n",
    "        self.fc2 = nn.Linear(64, 1)\n",
    "\n",
    "        self.softmax = nn.Softmax(dim=-1)\n",
    "\n",
    "    def forward(self, x):\n",
    "        rgb = x[0]\n",
    "\n",
    "        rgb = self.normalize(rgb)\n",
    "        rgb = self.conv(rgb)\n",
    "        rgb = self.deconv(rgb)\n",
    "\n",
    "        return self.softmax(self.fc2(self.fc1(self.extract(rgb)).squeeze()).squeeze())"
   ]
  },
  {
   "cell_type": "code",
   "execution_count": 18,
   "metadata": {},
   "outputs": [
    {
     "data": {
      "text/plain": [
       "tensor([0.1701, 0.1881, 0.2680, 0.2013, 0.1725])"
      ]
     },
     "execution_count": 18,
     "metadata": {},
     "output_type": "execute_result"
    }
   ],
   "source": [
    "net = DirectImitation()\n",
    "\n",
    "net((rgb.unsqueeze(dim=0),)).detach()"
   ]
  },
  {
   "cell_type": "markdown",
   "metadata": {},
   "source": [
    "# Conditional Imitation `[v3.x]`"
   ]
  },
  {
   "cell_type": "code",
   "execution_count": null,
   "metadata": {},
   "outputs": [],
   "source": [
    "class ConditionalImitation(ResnetBase): # 3.x\n",
    "    def __init__(self, resnet_model='resnet34', **resnet_kwargs):\n",
    "        resnet_kwargs['input_channel'] = resnet_kwargs.get('input_channel', 3)\n",
    "\n",
    "        super().__init__(resnet_model, **resnet_kwargs)\n",
    "\n",
    "        self.normalize = nn.BatchNorm2d(resnet_kwargs['input_channel'])\n",
    "        self.deconv = spatial_softmax_base()\n",
    "        self.extract = nn.Sequential(\n",
    "                nn.BatchNorm2d(64),\n",
    "                nn.Conv2d(64, 5, 1, 1, 0))\n",
    "\n",
    "        self.fc1 = nn.Linear(64, 1)\n",
    "        self.fc2 = nn.Linear(64, 2)\n",
    "        self.fc3 = nn.Linear(10, 5)\n",
    "\n",
    "        self.softmax = nn.Softmax(dim=1)\n",
    "\n",
    "    def forward(self, x):\n",
    "        rgb, meta = x\n",
    "\n",
    "        rgb = self.normalize(rgb)\n",
    "        rgb = self.conv(rgb)\n",
    "        rgb = self.deconv(rgb)\n",
    "        rgb = self.extract(rgb)\n",
    "        rgb = self.fc1(rgb).squeeze()\n",
    "        rgb = self.fc2(rgb)\n",
    "        x = self.fc3(rgb.view((-1, 10)) + meta)\n",
    "\n",
    "        return self.softmax(x)"
   ]
  },
  {
   "cell_type": "code",
   "execution_count": 67,
   "metadata": {},
   "outputs": [
    {
     "data": {
      "text/plain": [
       "tensor([[7.0419e-02, 5.4644e-04, 2.0197e-02, 2.8781e-02, 8.8006e-01]])"
      ]
     },
     "execution_count": 67,
     "metadata": {},
     "output_type": "execute_result"
    }
   ],
   "source": [
    "net = ConditionalImitation()\n",
    "\n",
    "net(rgb.unsqueeze(dim=0), meta).detach()"
   ]
  },
  {
   "cell_type": "code",
   "execution_count": null,
   "metadata": {},
   "outputs": [],
   "source": []
  },
  {
   "cell_type": "code",
   "execution_count": null,
   "metadata": {},
   "outputs": [],
   "source": []
  },
  {
   "cell_type": "markdown",
   "metadata": {},
   "source": [
    "---"
   ]
  },
  {
   "cell_type": "code",
   "execution_count": 10,
   "metadata": {},
   "outputs": [],
   "source": [
    "for rgb, _, _, action, _ in dataset:\n",
    "    img = np.array(transform_(rgb))\n",
    "\n",
    "    cv2.putText(img, 'Predicted: {}'.format(ACTIONS[(net(rgb.unsqueeze(dim=0)).detach()).argmax().item()]),\n",
    "        (10, 20),\n",
    "        cv2.FONT_HERSHEY_SIMPLEX,\n",
    "        0.5,\n",
    "        (255,255,255),\n",
    "        2)\n",
    "\n",
    "    cv2.putText(img, 'Actual:    {}'.format(ACTIONS[action.argmax().item()]),\n",
    "        (10, 40),\n",
    "        cv2.FONT_HERSHEY_SIMPLEX,\n",
    "        0.5,\n",
    "        (255,255,255),\n",
    "        2)\n",
    "\n",
    "    cv2.imshow('rgb', img)\n",
    "    cv2.waitKey(1)"
   ]
  }
 ],
 "metadata": {
  "kernelspec": {
   "display_name": "Python 3",
   "language": "python",
   "name": "python3"
  },
  "language_info": {
   "codemirror_mode": {
    "name": "ipython",
    "version": 3
   },
   "file_extension": ".py",
   "mimetype": "text/x-python",
   "name": "python",
   "nbconvert_exporter": "python",
   "pygments_lexer": "ipython3",
   "version": "3.7.4"
  }
 },
 "nbformat": 4,
 "nbformat_minor": 2
}
