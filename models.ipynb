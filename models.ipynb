{
 "cells": [
  {
   "cell_type": "code",
   "execution_count": 1,
   "metadata": {},
   "outputs": [
    {
     "data": {
      "text/html": [
       "<style>#notebook { padding-top:0px !important; } .container { width:100% !important; } .end_space { min-height:0px !important; } </style>"
      ],
      "text/plain": [
       "<IPython.core.display.HTML object>"
      ]
     },
     "metadata": {},
     "output_type": "display_data"
    }
   ],
   "source": [
    "from IPython.core.display import display, HTML\n",
    "display(HTML(\n",
    "    '<style>'\n",
    "        '#notebook { padding-top:0px !important; } ' \n",
    "        '.container { width:100% !important; } '\n",
    "        '.end_space { min-height:0px !important; } '\n",
    "    '</style>'\n",
    "))"
   ]
  },
  {
   "cell_type": "code",
   "execution_count": 2,
   "metadata": {},
   "outputs": [],
   "source": [
    "from habitat.sims.habitat_simulator.actions import HabitatSimActions\n",
    "\n",
    "from habitat_dataset import get_dataset, HabitatDataset\n",
    "\n",
    "from pathlib import Path\n",
    "import torch\n",
    "import numpy as np\n",
    "from PIL import Image\n",
    "import matplotlib.pyplot as plt\n",
    "from torchvision import transforms\n",
    "import pandas as pd\n",
    "import cv2\n",
    "\n",
    "ACTIONS = {v: k for k, v in HabitatSimActions._known_actions.items()}\n",
    "\n",
    "transform_ = transforms.ToPILImage()\n",
    "dataset = HabitatDataset('data/depth/train/0002')\n",
    "\n",
    "i = 20\n",
    "rgb, _, _, action, meta = dataset[i]"
   ]
  },
  {
   "cell_type": "code",
   "execution_count": 3,
   "metadata": {},
   "outputs": [],
   "source": [
    "import torch.nn as nn\n",
    "from resnet import ResnetBase\n",
    "\n",
    "def spatial_softmax_base():\n",
    "    return nn.Sequential(\n",
    "            nn.BatchNorm2d(512),\n",
    "            nn.ConvTranspose2d(512, 256, 3, 2, 1, 1),\n",
    "            nn.ReLU(True),\n",
    "            nn.BatchNorm2d(256),\n",
    "            nn.ConvTranspose2d(256, 128, 3, 2, 1, 1),\n",
    "            nn.ReLU(True),\n",
    "            nn.BatchNorm2d(128),\n",
    "            nn.ConvTranspose2d(128, 64, 3, 2, 1, 1),\n",
    "            nn.ReLU(True)\n",
    "    )\n",
    "\n",
    "class Flatten(nn.Module):\n",
    "    def forward(self, x):\n",
    "        return x.view(x.size(0), -1)"
   ]
  },
  {
   "cell_type": "markdown",
   "metadata": {},
   "source": [
    "# Direct Imitation `[v2.x]`\n",
    "Should at least work for not crashing/getting stuck... Might need to do DAgger or something to capture non-perfect situations."
   ]
  },
  {
   "cell_type": "code",
   "execution_count": 17,
   "metadata": {},
   "outputs": [],
   "source": [
    "class DirectImitation(ResnetBase): # v2.x\n",
    "    def __init__(self, resnet_model='resnet34', **resnet_kwargs):\n",
    "        resnet_kwargs['input_channel'] = resnet_kwargs.get('input_channel', 3)\n",
    "\n",
    "        super().__init__(resnet_model, **resnet_kwargs)\n",
    "\n",
    "        self.normalize = nn.BatchNorm2d(resnet_kwargs['input_channel'])\n",
    "        self.deconv = spatial_softmax_base()\n",
    "        self.extract = nn.Sequential(\n",
    "                nn.BatchNorm2d(64),\n",
    "                nn.Conv2d(64, 5, 1, 1, 0))#,\n",
    "                #common.SpatialSoftmax(temperature))\n",
    "      \n",
    "        self.fc1 = nn.Linear(64, 1)\n",
    "        self.fc2 = nn.Linear(64, 1)\n",
    " \n",
    "        self.softmax = nn.Softmax(dim=-1)\n",
    "\n",
    "    def forward(self, x):\n",
    "        rgb = x[0]\n",
    "\n",
    "        rgb = self.normalize(rgb)\n",
    "        rgb = self.conv(rgb)\n",
    "        rgb = self.deconv(rgb)\n",
    "        _x = self.extract(rgb)\n",
    "        print(_x.shape)\n",
    "\n",
    "        return self.softmax(self.fc2(self.fc1(_x).squeeze()).squeeze())"
   ]
  },
  {
   "cell_type": "code",
   "execution_count": 18,
   "metadata": {
    "scrolled": true
   },
   "outputs": [
    {
     "name": "stdout",
     "output_type": "stream",
     "text": [
      "torch.Size([1, 5, 64, 64])\n"
     ]
    },
    {
     "data": {
      "text/plain": [
       "tensor([0.1802, 0.2186, 0.1584, 0.1574, 0.2854])"
      ]
     },
     "execution_count": 18,
     "metadata": {},
     "output_type": "execute_result"
    }
   ],
   "source": [
    "net = DirectImitation()\n",
    "\n",
    "net((rgb.unsqueeze(dim=0),)).detach()"
   ]
  },
  {
   "cell_type": "markdown",
   "metadata": {},
   "source": [
    "# Direct (DD-PPO setup)\n",
    "* **SE-ResNeXt-50**\n",
    "* **GroupNorm**\n",
    "* **normalize RGB channels**"
   ]
  },
  {
   "cell_type": "code",
   "execution_count": 72,
   "metadata": {},
   "outputs": [],
   "source": [
    "from habitat_baselines.rl.ddppo.policy.resnet_policy import ResNetEncoder\n",
    "from habitat_baselines.rl.ddppo.policy import resnet\n",
    "from habitat_baselines.common.utils import CategoricalNet\n",
    "from gym import spaces\n",
    "\n",
    "class DirectImitationDDPPO(nn.Module): # v4.x\n",
    "    def __init__(self, resnet_model='se_resneXt50', baseplanes=32, ngroups=16, hidden_size=512, dim_actions=4):\n",
    "        super().__init__()\n",
    "        \n",
    "        self.visual_encoder = ResNetEncoder(\n",
    "            spaces.Dict({'rgb': spaces.Box(low=0, high=255, shape=(256, 256, 3), dtype='uint8')}),\n",
    "            baseplanes=baseplanes,\n",
    "            ngroups=ngroups,\n",
    "            make_backbone=getattr(resnet, resnet_model),\n",
    "            normalize_visual_inputs=True\n",
    "        )\n",
    "        \n",
    "        self.visual_fc = nn.Sequential(\n",
    "            Flatten(),\n",
    "            nn.Linear(np.prod(self.visual_encoder.output_shape), hidden_size),\n",
    "            nn.ReLU(True)\n",
    "        )\n",
    "\n",
    "        self.action_distribution = CategoricalNet(hidden_size, dim_actions)\n",
    "\n",
    "    def forward(self, x):\n",
    "        rgb = x[0]\n",
    "        rgb_vec = self.visual_encoder({'rgb': torch.FloatTensor(np.uint8(transform_(rgb))).unsqueeze(dim=0)})\n",
    "\n",
    "        return self.action_distribution(self.visual_fc(rgb_vec)).logits\n",
    "\n",
    "net = DirectImitationDDPPO()"
   ]
  },
  {
   "cell_type": "markdown",
   "metadata": {},
   "source": [
    "# Conditional Imitation `[v3.x]`\n",
    "\n",
    "Let's try conditioning on:\n",
    "* **zero-centered delta vector** (DD-PPO fig3)"
   ]
  },
  {
   "cell_type": "code",
   "execution_count": 20,
   "metadata": {},
   "outputs": [],
   "source": [
    "class ConditionalImitation(ResnetBase): # 3.x\n",
    "    def __init__(self, resnet_model='resnet34', **resnet_kwargs):\n",
    "        resnet_kwargs['input_channel'] = resnet_kwargs.get('input_channel', 3)\n",
    "\n",
    "        super().__init__(resnet_model, **resnet_kwargs)\n",
    "\n",
    "        self.normalize = nn.BatchNorm2d(resnet_kwargs['input_channel'])\n",
    "        self.deconv = spatial_softmax_base()\n",
    "        self.extract = nn.Sequential(\n",
    "                nn.BatchNorm2d(64),\n",
    "                nn.Conv2d(64, 5, 1, 1, 0))\n",
    "\n",
    "        self.fc1 = nn.Linear(64, 1)\n",
    "        self.fc2 = nn.Linear(64, 2)\n",
    "        self.fc3 = nn.Linear(10, 5)\n",
    "\n",
    "        self.softmax = nn.Softmax(dim=1)\n",
    "\n",
    "    def forward(self, x):\n",
    "        rgb, meta = x\n",
    "\n",
    "        rgb = self.normalize(rgb)\n",
    "        rgb = self.conv(rgb)\n",
    "        rgb = self.deconv(rgb)\n",
    "        rgb = self.extract(rgb)\n",
    "        rgb = self.fc1(rgb).squeeze()\n",
    "        rgb = self.fc2(rgb)\n",
    "        x = self.fc3(rgb.view((-1, 10)) + meta)\n",
    "\n",
    "        return self.softmax(x)"
   ]
  },
  {
   "cell_type": "code",
   "execution_count": 23,
   "metadata": {
    "scrolled": true
   },
   "outputs": [
    {
     "data": {
      "text/plain": [
       "tensor([[0.5246, 0.3132, 0.0072, 0.1155, 0.0395]])"
      ]
     },
     "execution_count": 23,
     "metadata": {},
     "output_type": "execute_result"
    }
   ],
   "source": [
    "net = ConditionalImitation()\n",
    "\n",
    "net((rgb.unsqueeze(dim=0), meta)).detach()"
   ]
  },
  {
   "cell_type": "markdown",
   "metadata": {},
   "source": [
    "---"
   ]
  },
  {
   "cell_type": "code",
   "execution_count": 10,
   "metadata": {},
   "outputs": [],
   "source": [
    "for rgb, _, _, action, _ in dataset:\n",
    "    img = np.array(transform_(rgb))\n",
    "\n",
    "    cv2.putText(img, 'Predicted: {}'.format(ACTIONS[(net(rgb.unsqueeze(dim=0)).detach()).argmax().item()]),\n",
    "        (10, 20),\n",
    "        cv2.FONT_HERSHEY_SIMPLEX,\n",
    "        0.5,\n",
    "        (255,255,255),\n",
    "        2)\n",
    "\n",
    "    cv2.putText(img, 'Actual:    {}'.format(ACTIONS[action.argmax().item()]),\n",
    "        (10, 40),\n",
    "        cv2.FONT_HERSHEY_SIMPLEX,\n",
    "        0.5,\n",
    "        (255,255,255),\n",
    "        2)\n",
    "\n",
    "    cv2.imshow('rgb', img)\n",
    "    cv2.waitKey(1)"
   ]
  }
 ],
 "metadata": {
  "kernelspec": {
   "display_name": "Python 3",
   "language": "python",
   "name": "python3"
  },
  "language_info": {
   "codemirror_mode": {
    "name": "ipython",
    "version": 3
   },
   "file_extension": ".py",
   "mimetype": "text/x-python",
   "name": "python",
   "nbconvert_exporter": "python",
   "pygments_lexer": "ipython3",
   "version": "3.7.4"
  }
 },
 "nbformat": 4,
 "nbformat_minor": 2
}
