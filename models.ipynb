{
 "cells": [
  {
   "cell_type": "code",
   "execution_count": 9,
   "metadata": {},
   "outputs": [
    {
     "data": {
      "text/plain": [
       "<All keys matched successfully>"
      ]
     },
     "execution_count": 9,
     "metadata": {},
     "output_type": "execute_result"
    }
   ],
   "source": [
    "from habitat.sims.habitat_simulator.actions import HabitatSimActions\n",
    "\n",
    "from habitat_dataset import get_dataset, HabitatDataset\n",
    "from model import Network\n",
    "\n",
    "from pathlib import Path\n",
    "import torch\n",
    "import numpy as np\n",
    "from PIL import Image\n",
    "import matplotlib.pyplot as plt\n",
    "from torchvision import transforms\n",
    "import pandas as pd\n",
    "import cv2\n",
    "\n",
    "ACTIONS = {v: k for k, v in HabitatSimActions._known_actions.items()}\n",
    "\n",
    "transform_ = transforms.ToPILImage()\n",
    "dataset = HabitatDataset('test_ppo_data/train/0002')#get_dataset('test_ppo_data')\n",
    "\n",
    "net = Network()\n",
    "net.load_state_dict(torch.load('models/habitat-ppo-depth/001/model_010.t7', map_location=torch.device('cpu')))"
   ]
  },
  {
   "cell_type": "code",
   "execution_count": 10,
   "metadata": {},
   "outputs": [],
   "source": [
    "for rgb, _, _, action, _ in dataset:\n",
    "    img = np.array(transform_(rgb))\n",
    "\n",
    "    cv2.putText(img, 'Predicted: {}'.format(ACTIONS[(net(rgb.unsqueeze(dim=0)).detach()).argmax().item()]),\n",
    "        (10, 20),\n",
    "        cv2.FONT_HERSHEY_SIMPLEX,\n",
    "        0.5,\n",
    "        (255,255,255),\n",
    "        2)\n",
    "\n",
    "    cv2.putText(img, 'Actual:    {}'.format(ACTIONS[action.argmax().item()]),\n",
    "        (10, 40),\n",
    "        cv2.FONT_HERSHEY_SIMPLEX,\n",
    "        0.5,\n",
    "        (255,255,255),\n",
    "        2)\n",
    "\n",
    "    cv2.imshow('rgb', img)\n",
    "    cv2.waitKey(1)"
   ]
  },
  {
   "cell_type": "code",
   "execution_count": null,
   "metadata": {},
   "outputs": [],
   "source": []
  }
 ],
 "metadata": {
  "kernelspec": {
   "display_name": "Python 3",
   "language": "python",
   "name": "python3"
  },
  "language_info": {
   "codemirror_mode": {
    "name": "ipython",
    "version": 3
   },
   "file_extension": ".py",
   "mimetype": "text/x-python",
   "name": "python",
   "nbconvert_exporter": "python",
   "pygments_lexer": "ipython3",
   "version": "3.7.4"
  }
 },
 "nbformat": 4,
 "nbformat_minor": 2
}
