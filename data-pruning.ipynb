{
 "cells": [
  {
   "cell_type": "code",
   "execution_count": 29,
   "metadata": {},
   "outputs": [],
   "source": [
    "import json"
   ]
  },
  {
   "cell_type": "code",
   "execution_count": 30,
   "metadata": {},
   "outputs": [],
   "source": [
    "for split in ['train', 'test', 'val']:\n",
    "    with open(f'/Users/nimit/Documents/robomaster/habitat/habitat-api/data/datasets/pointnav/habitat-test-scenes/v1/{split}/{split}.json', 'r') as f:\n",
    "        data = json.load(f)\n",
    "    castle_episodes = [episode for episode in data['episodes'] if 'skokloster-castle' in episode['scene_id']]\n",
    "\n",
    "    with open(f'/Users/nimit/Documents/robomaster/habitat/habitat-api/data/datasets/pointnav/castle/{split}/{split}.json', 'w') as f:\n",
    "        json.dump({'episodes': castle_episodes}, f)"
   ]
  },
  {
   "cell_type": "code",
   "execution_count": null,
   "metadata": {},
   "outputs": [],
   "source": []
  }
 ],
 "metadata": {
  "kernelspec": {
   "display_name": "Python 3",
   "language": "python",
   "name": "python3"
  },
  "language_info": {
   "codemirror_mode": {
    "name": "ipython",
    "version": 3
   },
   "file_extension": ".py",
   "mimetype": "text/x-python",
   "name": "python",
   "nbconvert_exporter": "python",
   "pygments_lexer": "ipython3",
   "version": "3.7.4"
  }
 },
 "nbformat": 4,
 "nbformat_minor": 2
}
